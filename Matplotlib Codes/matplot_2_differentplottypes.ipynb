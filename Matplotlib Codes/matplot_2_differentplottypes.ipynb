{
 "cells": [
  {
   "cell_type": "code",
   "execution_count": null,
   "metadata": {},
   "outputs": [],
   "source": [
    "from matplotlib import pyplot as plt\n",
    "\n",
    "drinks = [\"cappuccino\", \"latte\", \"chai\", \"americano\", \"mocha\", \"espresso\"]\n",
    "sales =  [91, 76, 56, 66, 52, 27]\n",
    "\n",
    "plt.bar(range(len(drinks)), sales)\n",
    "\n",
    "#create your ax object here\n",
    "ax = plt.subplot()\n",
    "ax.set_xticks(range(len(drinks)))\n",
    "ax.set_xticklabels(drinks,rotation = 20)\n",
    "\n",
    "plt.show()\n",
    "\n"
   ]
  },
  {
   "cell_type": "markdown",
   "metadata": {},
   "source": [
    "Simple Bar Chart II\n",
    "When we create a bar chart, we want each bar to be meaningful and correspond to a category of data. In the drinks chart from the last exercise, we could see that sales were different for different drink items, but this wasn’t very helpful to us, since we didn’t know which bar corresponded to which drink.\n",
    "\n",
    "In the previous lesson, we learned how to customize the tick marks on the x-axis in three steps:\n",
    "\n",
    "Create an axes object\n",
    "ax = plt.subplot()\n",
    "Set the x-tick positions using a list of numbers\n",
    "ax.set_xticks([0, 1, 2, 3, 4, 5, 6, 7, 8])\n",
    "Set the x-tick labels using a list of strings\n",
    "ax.set_xticklabels(['Mercury', 'Venus', 'Earth', 'Mars', 'Jupiter', 'Saturn', 'Uranus', 'Neptune', 'Pluto'])\n",
    "If your labels are particularly long, you can use the rotation keyword to rotate your labels by a specified number of degrees:\n",
    "ax.set_xticklabels(['Mercury', 'Venus', 'Earth', 'Mars', 'Jupiter', 'Saturn', 'Uranus', 'Neptune', 'Pluto'],\n",
    "rotation=30)\n",
    "Note: We have to set the x-ticks before we set the x-labels because the default ticks won’t necessarily be one tick per bar, especially if we’re plotting a lot of bars. If we skip setting the x-ticks before the x-labels, we might end up with labels in the wrong place.\n",
    "\n",
    "Remember from Lesson I that we can label the x-axis (plt.xlabel) and y-axis (plt.ylabel) as well. Now, our graph is much easier to understand:"
   ]
  },
  {
   "cell_type": "code",
   "execution_count": 2,
   "metadata": {},
   "outputs": [
    {
     "data": {
      "image/png": "[encoded data removed]",
      "text/plain": [
       "<Figure size 432x288 with 1 Axes>"
      ]
     },
     "metadata": {
      "needs_background": "light"
     },
     "output_type": "display_data"
    }
   ],
   "source": [
    "from matplotlib import pyplot as plt\n",
    "\n",
    "drinks = [\"cappuccino\", \"latte\", \"chai\", \"americano\", \"mocha\", \"espresso\"]\n",
    "sales1 =  [91, 76, 56, 66, 52, 27]\n",
    "sales2 = [65, 82, 36, 68, 38, 40]\n",
    "\n",
    "#Paste the x_values code here\n",
    "n = 1  # This is our first dataset (out of 2)\n",
    "t = 2 # Number of datasets\n",
    "d = 6 # Number of sets of bars\n",
    "w = 0.8 # Width of each bar\n",
    "store1_x = [t*element + w*n for element\n",
    "             in range(d)]\n",
    "plt.bar(store1_x,sales1)\n",
    "n = 2  # This is our second dataset (out of 2)\n",
    "t = 2 # Number of datasets\n",
    "d = 6 # Number of sets of bars\n",
    "w = 0.8 # Width of each bar\n",
    "store2_x = [t*element + w*n for element\n",
    "             in range(d)]\n",
    "\n",
    "plt.bar(store2_x,sales2)\n",
    "\n",
    "plt.show()\n"
   ]
  },
  {
   "cell_type": "markdown",
   "metadata": {},
   "source": [
    "Side-By-Side Bars\n",
    "We can use a bar chart to compare two sets of data with the same types of axis values. To do this, we plot two sets of bars next to each other, so that the values of each category can be compared. For example, here is a chart with side-by-side bars for the populations of the United States and China over the age of 65 (in percentages):population_bars\n",
    "\n",
    "(data taken from World Bank)\n",
    "\n",
    "Some examples of data that side-by-side bars could be useful for include:\n",
    "\n",
    "the populations of two countries over time\n",
    "prices for different foods at two different restaurants\n",
    "enrollments in different classes for males and females\n",
    "In the graph above, there are 7 sets of bars, with 2 bars in each set. Each bar has a width of 0.8 (the default width for all bars in Matplotlib).\n",
    "\n",
    "If our first blue bar is at x=0, then we want the next blue bar to be at x=2, and the next to be at x=4, etc.\n",
    "Our first orange bar should be at x=0.8 (so that it is touching the blue bar), and the next orange bar should be at x=2.8, etc.\n",
    "This is a lot of math, but we can make Python do it for us by copying and pasting this code:\n",
    "\n",
    "# China Data (blue bars)\n",
    "n = 1  # This is our first dataset (out of 2)\n",
    "t = 2 # Number of datasets\n",
    "d = 7 # Number of sets of bars\n",
    "w = 0.8 # Width of each bar\n",
    "x_values1 = [t*element + w*n for element\n",
    "             in range(d)]\n",
    "That just generated the first set of x-values. To generate the second set, paste the code again, but change n to 2, because this is the second dataset:\n",
    "\n",
    "# US Data (orange bars)\n",
    "n = 2  # This is our second dataset (out of 2)\n",
    "t = 2 # Number of datasets\n",
    "d = 7 # Number of sets of bars\n",
    "w = 0.8 # Width of each bar\n",
    "x_values2 = [t*element + w*n for element\n",
    "             in range(d)]\n",
    "Let’s examine our special code:\n",
    "\n",
    "[t*element + w*n for element in range(d)]\n",
    "This is called a list comprehension. It’s a special way of generating a list from a formula. You can learn more about it in this article. For making side-by-side bar graphs, you’ll never need to change this line; just paste it into your code and make sure to define n, t, d, and w correctly.\n",
    "\n",
    "In the instructions below, we’ll experiment with side-by-side bars to compare different locations of the MatplotSip coffee empire."
   ]
  },
  {
   "cell_type": "code",
   "execution_count": 3,
   "metadata": {},
   "outputs": [
    {
     "data": {
      "image/png": "[encoded data removed]",
      "text/plain": [
       "<Figure size 432x288 with 1 Axes>"
      ]
     },
     "metadata": {
      "needs_background": "light"
     },
     "output_type": "display_data"
    }
   ],
   "source": [
    "from matplotlib import pyplot as plt\n",
    "\n",
    "drinks = [\"cappuccino\", \"latte\", \"chai\", \"americano\", \"mocha\", \"espresso\"]\n",
    "sales1 =  [91, 76, 56, 66, 52, 27]\n",
    "sales2 = [65, 82, 36, 68, 38, 40]\n",
    "  \n",
    "plt.bar(range(len(drinks)), sales1)\n",
    "plt.bar(range(len(drinks)), sales2, bottom=sales1)\n",
    "\n",
    "plt.legend([\"Location 1\", \"Location 2\"])\n",
    "\n",
    "plt.show()"
   ]
  },
  {
   "cell_type": "markdown",
   "metadata": {},
   "source": [
    "Stacked Bars\n",
    "If we want to compare two sets of data while preserving knowledge of the total between them, we can also stack the bars instead of putting them side by side. For instance, if someone was plotting the hours they’ve spent on entertaining themselves with video games and books in the past week, and wanted to also get a feel for total hours spent on entertainment, they could create a stacked bar chart:\n",
    "\n",
    "entertainment\n",
    "\n",
    "We do this by using the keyword bottom. The top set of bars will have bottom set to the heights of the other set of bars. So the first set of bars is plotted normally:\n",
    "\n",
    "video_game_hours = [1, 2, 2, 1, 2]\n",
    "\n",
    "plt.bar(range(len(video_game_hours)),\n",
    "  video_game_hours) \n",
    "and the second set of bars has bottom specified:\n",
    "\n",
    "book_hours = [2, 3, 4, 2, 1]\n",
    "\n",
    "plt.bar(range(len(book_hours)),\n",
    "  book_hours,\n",
    "  bottom=video_game_hours)\n",
    "This starts the book_hours bars at the heights of the video_game_hours bars. So, for example, on Monday the orange bar representing hours spent reading will start at a value of 1 instead of 0, because 1 hour was spent playing video games.\n",
    "\n",
    "Let’s try this out with the MatplotSip data from the last exercise."
   ]
  },
  {
   "cell_type": "code",
   "execution_count": 5,
   "metadata": {},
   "outputs": [
    {
     "data": {
      "image/png": "[encoded data removed]",
      "text/plain": [
       "<Figure size 432x288 with 1 Axes>"
      ]
     },
     "metadata": {
      "needs_background": "light"
     },
     "output_type": "display_data"
    }
   ],
   "source": [
    "from matplotlib import pyplot as plt\n",
    "\n",
    "drinks = [\"cappuccino\", \"latte\", \"chai\", \"americano\", \"mocha\", \"espresso\"]\n",
    "ounces_of_milk = [6, 9, 4, 0, 9, 0]\n",
    "error = [0.6, 0.9, 0.4, 0, 0.9, 0]\n",
    "\n",
    "# Plot the bar graph here\n",
    "plt.bar(range(len(drinks)),ounces_of_milk,yerr = error,capsize = 10)\n",
    "\n",
    "\n",
    "\n",
    "plt.show()"
   ]
  },
  {
   "cell_type": "markdown",
   "metadata": {},
   "source": [
    "Error Bars\n",
    "\n",
    "In the previous exercise, you learned to represent data as bars of different heights. Sometimes, we need to visually communicate some sort of uncertainty in the heights of those bars. Here are some examples:\n",
    "\n",
    "\n",
    "The average number of students in a 3rd grade classroom is 30, but some classes have as few as 18 and others have as many as 35 students.\n",
    "We measured that the weight of a certain fruit was 35g, but we know that our scale isn’t very precise, so the true weight of the fruit might be as much as 40g or as little as 30g.\n",
    "The average price of a soda is $1.00, but we also want to communicate that the standard deviation is $0.20.\n",
    "To display error visually in a bar chart, we often use error bars to show where each bar could be, taking errors into account.\n",
    "\n",
    "error_bars\n",
    "\n",
    "Each of the black lines is called an error bar. The taller the bar is, the more uncertain we are about the height of the blue bar. The horizontal lines at the top and bottom are called caps. They make it easier to read the error bars.\n",
    "\n",
    "If we wanted to show an error of +/- 2, we would add the keyword yerr=2 to our plt.bar command. To make the caps wide and easy to read, we would add the keyword capsize=10:\n",
    "\n",
    "values = [10, 13, 11, 15, 20]\n",
    "yerr = 2\n",
    "plt.bar(range(len(values)), values, yerr=yerr, capsize=10)\n",
    "plt.show()\n",
    "If we want a different amount of error for each bar, we can make yerr equal to a list rather than a single number:\n",
    "\n",
    "values = [10, 13, 11, 15, 20]\n",
    "yerr = [1, 3, 0.5, 2, 4]\n",
    "plt.bar(range(len(values)), values, yerr=yerr, capsize=10)\n",
    "plt.show()\n",
    "This code results in error bars of different sizes:\n",
    "\n",
    "variable_error\n",
    "\n",
    "Like the list of x-axis labels, Matplotlib reads this in the same order as the list of y-values. So, the first index of your error list should correspond to the first index of your y-values list, the second index of your error list should correspond to the second index of your y-values list, and so on."
   ]
  },
  {
   "cell_type": "code",
   "execution_count": 8,
   "metadata": {},
   "outputs": [
    {
     "name": "stderr",
     "output_type": "stream",
     "text": [
      "C:\\Users\\phreak\\Anaconda3\\lib\\site-packages\\ipykernel_launcher.py:10: MatplotlibDeprecationWarning: Adding an axes using the same arguments as a previous axes currently reuses the earlier instance.  In a future version, a new instance will always be created and returned.  Meanwhile, this warning can be suppressed, and the future behavior ensured, by passing a unique label to each axes instance.\n",
      "  # Remove the CWD from sys.path while we load stuff.\n"
     ]
    },
    {
     "data": {
      "image/png": "[encoded data removed]",
      "text/plain": [
       "<Figure size 432x288 with 1 Axes>"
      ]
     },
     "metadata": {
      "needs_background": "light"
     },
     "output_type": "display_data"
    }
   ],
   "source": [
    "from matplotlib import pyplot as plt\n",
    "\n",
    "months = range(12)\n",
    "month_names = [\"Jan\", \"Feb\", \"Mar\", \"Apr\", \"May\", \"Jun\", \"Jul\", \"Aug\", \"Sep\", \"Oct\", \"Nov\", \"Dec\"]\n",
    "\n",
    "revenue = [16000, 14000, 17500, 19500, 21500, 21500, 22000, 23000, 20000, 19500, 18000, 16500]\n",
    "\n",
    "#your work here\n",
    "plt.plot(months,revenue)\n",
    "ax = plt.subplot()\n",
    "ax.set_xticks(months)\n",
    "ax.set_xticklabels(month_names)\n",
    "y_lower = [i - 0.1*i for i in revenue]\n",
    "y_upper = [i+0.1*i for i in revenue]\n",
    "plt.fill_between(months,y_lower,y_upper, alpha = 0.8)\n",
    "\n",
    "plt.show()"
   ]
  },
  {
   "cell_type": "markdown",
   "metadata": {},
   "source": [
    "We’ve learned how to display errors on bar charts using error bars. Let’s take a look at how we might do this in an aesthetically pleasing way on line graphs. In Matplotlib, we can use plt.fill_between to shade error. This function takes three arguments:\n",
    "\n",
    "x-values — this works just like the x-values of plt.plot\n",
    "lower-bound for y-values — sets the bottom of the shared area\n",
    "upper-bound for y-values — sets the top of the shared area\n",
    "Generally, we use fill_between to create a shaded error region, and then plot the actual line over it. We can set the alpha keyword to a value between 0 and 1 in the fill_between call for transparency so that we can see the line underneath. Here is an example of how we would display data with an error of 2:\n",
    "\n",
    "x_values = range(10)\n",
    "y_values = [10, 12, 13, 13, 15, 19, 20, 22, 23, 29]\n",
    "y_lower = [8, 10, 11, 11, 13, 17, 18, 20, 21, 27]\n",
    "y_upper = [12, 14, 15, 15, 17, 21, 22, 24, 25, 31]\n",
    "\n",
    "plt.fill_between(x_values, y_lower, y_upper, alpha=0.2) #this is the shaded error\n",
    "plt.plot(x_values, y_values) #this is the line itself\n",
    "plt.show()\n",
    "This would give us a plot that looks like:fill_between\n",
    "\n",
    "Having to calculate y_lower and y_upper by hand is time-consuming. If we try to just subtract 2 from y_values, we will get an error.\n",
    "\n",
    "TypeError: unsupported operand type(s) for -: 'list' and 'int'\n",
    "In order to correctly add or subtract from a list, we need to use list comprehension:\n",
    "\n",
    "y_lower = [i - 2 for i in y_values]\n",
    "This command looks at each element in y_values and calls the element its currently looking at i. For each new i, it subtracts 2. These opperations create a new list called y_lower.\n",
    "\n",
    "If we wanted to add 2 to each element in y_values, we use this code:\n",
    "\n",
    "y_upper = [i + 2 for i in y_values]"
   ]
  },
  {
   "cell_type": "code",
   "execution_count": 10,
   "metadata": {},
   "outputs": [
    {
     "data": {
      "text/plain": [
       "(-1.1154237628355241,\n",
       " 1.100734469605438,\n",
       " -1.1215499323585933,\n",
       " 1.1106494653559131)"
      ]
     },
     "execution_count": 10,
     "metadata": {},
     "output_type": "execute_result"
    },
    {
     "data": {
      "image/png": "[encoded data removed]",
      "text/plain": [
       "<Figure size 432x288 with 1 Axes>"
      ]
     },
     "metadata": {},
     "output_type": "display_data"
    }
   ],
   "source": [
    "\n",
    "from matplotlib import pyplot as plt\n",
    "import numpy as np\n",
    "\n",
    "payment_method_names = [\"Card Swipe\", \"Cash\", \"Apple Pay\", \"Other\"]\n",
    "payment_method_freqs = [270, 77, 32, 11]\n",
    "\n",
    "#make your pie chart here\n",
    "\n",
    "plt.pie(payment_method_freqs)\n",
    "plt.axis('equal')\n",
    "\n"
   ]
  },
  {
   "cell_type": "markdown",
   "metadata": {},
   "source": [
    "If we want to display elements of a data set as proportions of a whole, we can use a pie chart.\n",
    "\n",
    "Pie charts are helpful for displaying data like:\n",
    "\n",
    "Different ethnicities that make up a school district\n",
    "Different macronutrients (carbohydrates, fat, protein) that make up a meal\n",
    "Different responses to an online poll\n",
    "In Matplotlib, you can make a pie chart with the command plt.pie, passing in the values you want to chart:\n",
    "\n",
    "budget_data = [500, 1000, 750, 300, 100]\n",
    "\n",
    "plt.pie(budget_data)\n",
    "plt.show()\n",
    "Which would create a chart like:\n",
    "\n",
    "budget_skew\n",
    "\n",
    "This looks weird and tilted. When we make pie charts in Matplotlib, we almost always want to set the axes to be equal to fix this issue. To do this, we use plt.axis('equal'), which results in a chart like this:"
   ]
  },
  {
   "cell_type": "code",
   "execution_count": 18,
   "metadata": {},
   "outputs": [
    {
     "data": {
      "image/png": "[encoded data removed]",
      "text/plain": [
       "<Figure size 432x288 with 1 Axes>"
      ]
     },
     "metadata": {},
     "output_type": "display_data"
    }
   ],
   "source": [
    "from matplotlib import pyplot as plt\n",
    "\n",
    "payment_method_names = [\"Card Swipe\", \"Cash\", \"Apple Pay\", \"Other\"]\n",
    "payment_method_freqs = [270, 77, 32, 11]\n",
    "\n",
    "plt.pie(payment_method_freqs,labels = payment_method_names ,\n",
    "autopct = '%d%%'  # ROUNDED \n",
    ")\n",
    "plt.axis('equal')\n",
    "plt.legend(payment_method_names,loc = 3 )\n",
    "\n",
    "plt.show()"
   ]
  },
  {
   "cell_type": "markdown",
   "metadata": {},
   "source": [
    "Pie Chart Labeling\n",
    "We also want to be able to understand what each slice of the pie represents. To do this, we can either:\n",
    "\n",
    "use a legend to label each color, or\n",
    "put labels on the chart itself.\n",
    "Method 1\n",
    "budget_data = [500, 1000, 750, 300, 100]\n",
    "budget_categories = ['marketing', 'payroll', 'engineering', 'design', 'misc']\n",
    "\n",
    "plt.pie(budget_data)\n",
    "plt.legend(budget_categories)\n",
    "This puts the category names into a legend on the chart:pie_legend\n",
    "\n",
    "Method 2\n",
    "#option 2\n",
    "plt.pie(budget_data, labels=budget_categories)\n",
    "This puts the category names into labels next to each corresponding slice:\n",
    "\n",
    "pie_labels\n",
    "\n",
    "One other useful labeling tool for pie charts is adding the percentage of the total that each slice occupies. Matplotlib can add this automatically with the keyword autopct. We pass in string formatting instructions to format the labels how we want. Some common formats are:\n",
    "\n",
    "'%0.2f' — 2 decimal places, like 4.08\n",
    "'%0.2f%%' — 2 decimal places, but with a percent sign at the end, like 4.08%. You need two consecutive percent signs because the first one acts as an escape character, so that the second one gets displayed on the chart.\n",
    "'%d%%' — rounded to the nearest int and with a percent sign at the end, like 4%.\n",
    "So, a full call to plt.pie might look like:\n",
    "\n",
    "plt.pie(budget_data,\n",
    "        labels=budget_categories,\n",
    "        autopct='%0.1f%%')\n",
    "and the resulting chart would look like:budget_chart_full"
   ]
  },
  {
   "cell_type": "markdown",
   "metadata": {},
   "source": [
    "Histogram\n",
    "\n",
    "\n",
    "\n",
    "Sometimes we want to get a feel for a large dataset with many samples beyond knowing just the basic metrics of mean, median, or standard deviation. To get more of an intuitive sense for a dataset, we can use a histogram to display all the values.\n",
    "\n",
    "A histogram tells us how many values in a dataset fall between different sets of numbers (i.e., how many numbers fall between 0 and 10? Between 10 and 20? Between 20 and 30?). Each of these questions represents a bin, for instance, our first bin might be between 0 and 10.\n",
    "\n",
    "All bins in a histogram are always the same size. The width of each bin is the distance between the minimum and maximum values of each bin. In our example, the width of each bin would be 10.\n",
    "\n",
    "Each bin is represented by a different rectangle whose height is the number of elements from the dataset that fall within that bin.\n",
    "\n",
    "Here is an example:\n",
    "\n",
    "histogram\n",
    "\n",
    "To make a histogram in Matplotlib, we use the command plt.hist. plt.hist finds the minimum and the maximum values in your dataset and creates 10 equally-spaced bins between those values.\n",
    "\n",
    "The histogram above, for example, was created with the following code:\n",
    "\n",
    "plt.hist(dataset) \n",
    "plt.show()\n",
    "If we want more than 10 bins, we can use the keyword bins to set how many bins we want to divide the data into. The keyword range selects the minimum and maximum values to plot. For example, if we wanted to take our data from the last example and make a new histogram that just displayed the values from 66 to 69, divided into 40 bins (instead of 10), we could use this function call:\n",
    "\n",
    "plt.hist(dataset, range=(66,69), bins=40)\n",
    "which would result in a histogram that looks like this:\n",
    "\n",
    "histogram_range\n",
    "\n",
    "Histograms are best for showing the shape of a dataset. For example, you might see that values are close together, or skewed to one side. With this added intuition, we often discover other types of analysis we want to perform.\n",
    "\n",
    "\n",
    "\n",
    "\n",
    "\n",
    "\n",
    "Multiple Histograms\n",
    "If we want to compare two different distributions, we can put multiple histograms on the same plot. This could be useful, for example, in comparing the heights of a bunch of men and the heights of a bunch of women. However, it can be hard to read two histograms on top of each other. For example, in this histogram, we can’t see all of the blue plot, because it’s covered by the orange one:\n",
    "\n",
    "overlap_hist\n",
    "\n",
    "We have two ways we can solve a problem like this:\n",
    "\n",
    "use the keyword alpha, which can be a value between 0 and 1. This sets the transparency of the histogram. A value of 0 would make the bars entirely transparent. A value of 1 would make the bars completely opaque.\n",
    "\n",
    "plt.hist(a, range=(55, 75), bins=20, alpha=0.5)\n",
    "plt.hist(b, range=(55, 75), bins=20, alpha=0.5)\n",
    "This would make both histograms visible on the plot:alpha_histograms\n",
    "\n",
    "use the keyword histtype with the argument 'step' to draw just the outline of a histogram:\n",
    "\n",
    "plt.hist(a, range=(55, 75), bins=20, histtype='step')\n",
    "plt.hist(b, range=(55, 75), bins=20, histtype='step')\n",
    "which results in a chart like:step_histogram\n",
    "\n",
    "Another problem we face is that our histograms might have different numbers of samples, making one much bigger than the other. We can see how this makes it difficult to compare qualitatively, by adding a dataset b with a much bigger size value:\n",
    "\n",
    "a = normal(loc=64, scale=2, size=10000)\n",
    "b = normal(loc=70, scale=2, size=100000)\n",
    "\n",
    "plt.hist(a, range=(55, 75), bins=20)\n",
    "plt.hist(b, range=(55, 75), bins=20)\n",
    "plt.show()\n",
    "The result is two histograms that are very difficult to compare:different_hist\n",
    "\n",
    "To solve this, we can normalize our histograms using normed=True. This command divides the height of each column by a constant such that the total shaded area of the histogram sums to 1.\n",
    "\n",
    "a = normal(loc=64, scale=2, size=10000)\n",
    "b = normal(loc=70, scale=2, size=100000)\n",
    "\n",
    "plt.hist(a, range=(55, 75), bins=20, alpha=0.5, normed=True)\n",
    "plt.hist(b, range=(55, 75), bins=20, alpha=0.5, normed=True)\n",
    "plt.show()\n",
    "Now, we can more easily see the differences between the blue set and the orange set:\n",
    "\n",
    "\n",
    "\n",
    "\n",
    "what does it mean to normalize the data?\n",
    "\n",
    "\n",
    "\n",
    "In the context of the exercise, normalizing data is adjusting data to a different scale, such that we are able to compare two datasets which might not have been clearly related initially. By normalizing two datasets and then graphing them, it is easier to see their differences or relation.\n",
    "\n",
    "A way to normalize the values to a new scale is by calculating a ratio value, like so\n",
    "ratio = total_area / (total of all values)\n",
    "\n",
    "where this ratio can be multiplied by the original values to give the properly scaled values.\n",
    "scaled_value = ratio * value\n",
    "\n",
    "We can use other values besides 1 if we want to change the total shaded area of the histogram.\n",
    "\n",
    "When we use normed=True, the total_area would be 1 by default.\n",
    "\n",
    "\n",
    "\n"
   ]
  },
  {
   "cell_type": "code",
   "execution_count": null,
   "metadata": {},
   "outputs": [],
   "source": []
  }
 ],
 "metadata": {
  "kernelspec": {
   "display_name": "Python 3",
   "language": "python",
   "name": "python3"
  },
  "language_info": {
   "codemirror_mode": {
    "name": "ipython",
    "version": 3
   },
   "file_extension": ".py",
   "mimetype": "text/x-python",
   "name": "python",
   "nbconvert_exporter": "python",
   "pygments_lexer": "ipython3",
   "version": "3.7.4"
  }
 },
 "nbformat": 4,
 "nbformat_minor": 2
}
